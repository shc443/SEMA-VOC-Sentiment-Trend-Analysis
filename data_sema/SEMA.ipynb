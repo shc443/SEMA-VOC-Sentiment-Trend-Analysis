{
 "cells": [
  {
   "cell_type": "code",
   "execution_count": null,
   "id": "7074be59-a403-41d2-a461-cd2c5d9451a6",
   "metadata": {},
   "outputs": [],
   "source": [
    "import cli\n",
    "from __init__ import cli_VOC_logo\n",
    "\n",
    "cli_VOC_logo('sema')\n",
    "cli.SEMA().process_analysis() #tada~"
   ]
  },
  {
   "cell_type": "code",
   "execution_count": null,
   "id": "7cc8708e-c724-4b60-b149-dd53a839148f",
   "metadata": {},
   "outputs": [],
   "source": []
  }
 ],
 "metadata": {
  "kernelspec": {
   "display_name": "Python 3 (ipykernel)",
   "language": "python",
   "name": "python3"
  },
  "language_info": {
   "codemirror_mode": {
    "name": "ipython",
    "version": 3
   },
   "file_extension": ".py",
   "mimetype": "text/x-python",
   "name": "python",
   "nbconvert_exporter": "python",
   "pygments_lexer": "ipython3",
   "version": "3.8.5"
  }
 },
 "nbformat": 4,
 "nbformat_minor": 5
}
